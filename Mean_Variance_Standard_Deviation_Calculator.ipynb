{
  "nbformat": 4,
  "nbformat_minor": 0,
  "metadata": {
    "colab": {
      "name": "Mean-Variance-Standard Deviation Calculator.ipynb",
      "provenance": [],
      "collapsed_sections": [],
      "authorship_tag": "ABX9TyPlozYxzQfFEwih7T4dhpcr",
      "include_colab_link": true
    },
    "kernelspec": {
      "name": "python3",
      "display_name": "Python 3"
    },
    "language_info": {
      "name": "python"
    }
  },
  "cells": [
    {
      "cell_type": "markdown",
      "metadata": {
        "id": "view-in-github",
        "colab_type": "text"
      },
      "source": [
        "<a href=\"https://colab.research.google.com/github/Dileep3549/PyDataSolutions/blob/main/Mean_Variance_Standard_Deviation_Calculator.ipynb\" target=\"_parent\"><img src=\"https://colab.research.google.com/assets/colab-badge.svg\" alt=\"Open In Colab\"/></a>"
      ]
    },
    {
      "cell_type": "code",
      "execution_count": 13,
      "metadata": {
        "id": "ZnkuV5kgqgDh"
      },
      "outputs": [],
      "source": [
        "import numpy as np"
      ]
    },
    {
      "cell_type": "code",
      "source": [
        "list=[0,1,2,3,4,5,6,7,8]"
      ],
      "metadata": {
        "id": "VspDUYYfqjGX"
      },
      "execution_count": 23,
      "outputs": []
    },
    {
      "cell_type": "code",
      "source": [
        "def calculate(list):\n",
        "      if len(list)==9:\n",
        "          flatarr=np.array(list)\n",
        "          arr=np.array(list).reshape(3,3)\n",
        "          meanaxis0=arr.mean(axis=0).tolist()\n",
        "          meanaxis1=arr.mean(axis=1).tolist()\n",
        "          meanaxis2=flatarr.mean()\n",
        "          varaxs0=arr.var(axis=0).tolist()\n",
        "          varaxs1=arr.var(axis=1).tolist()\n",
        "          varaxs2=flatarr.var()\n",
        "          stdaxs0=arr.std(axis=0).tolist()\n",
        "          stdaxs1=arr.std(axis=1).tolist()\n",
        "          stdaxs2=flatarr.std()\n",
        "          maxax0=arr.max(axis=0).tolist()\n",
        "          maxax1=arr.max(axis=1).tolist()\n",
        "          maxax2=flatarr.max()\n",
        "          minax0=arr.min(axis=0).tolist()\n",
        "          minax1=arr.min(axis=1).tolist()\n",
        "          minax2=flatarr.min()\n",
        "          sumax0=arr.sum(axis=0).tolist()\n",
        "          sumax1=arr.sum(axis=1).tolist()\n",
        "          sumax2=flatarr.sum()\n",
        "          calculations={'mean':[meanaxis0,meanaxis1,meanaxis2],\n",
        "                    'variance':[varaxs0,varaxs1,varaxs2],\n",
        "                    'standard deviation':[stdaxs0,stdaxs1,stdaxs2],\n",
        "                    'max':[maxax0,maxax1,maxax2],\n",
        "                    'min':[minax0,minax1,minax2],\n",
        "                    'sum':[sumax0,sumax1,sumax2]}\n",
        "          return calculations\n",
        "      else:\n",
        "        raise ValueError(\"List must contain nine numbers.\")\n",
        "  \n"
      ],
      "metadata": {
        "id": "YcwdPCYrqpWD"
      },
      "execution_count": 21,
      "outputs": []
    },
    {
      "cell_type": "code",
      "source": [
        "calculate(list)"
      ],
      "metadata": {
        "colab": {
          "base_uri": "https://localhost:8080/"
        },
        "id": "ADCBcVDYrsSs",
        "outputId": "f54f0f8e-141d-431a-897c-b9977cf9e424"
      },
      "execution_count": 22,
      "outputs": [
        {
          "output_type": "execute_result",
          "data": {
            "text/plain": [
              "{'max': [[6, 7, 8], [2, 5, 8], 8],\n",
              " 'mean': [[3.0, 4.0, 5.0], [1.0, 4.0, 7.0], 4.0],\n",
              " 'min': [[0, 1, 2], [0, 3, 6], 0],\n",
              " 'standard deviation': [[2.449489742783178,\n",
              "   2.449489742783178,\n",
              "   2.449489742783178],\n",
              "  [0.816496580927726, 0.816496580927726, 0.816496580927726],\n",
              "  2.581988897471611],\n",
              " 'sum': [[9, 12, 15], [3, 12, 21], 36],\n",
              " 'variance': [[6.0, 6.0, 6.0],\n",
              "  [0.6666666666666666, 0.6666666666666666, 0.6666666666666666],\n",
              "  6.666666666666667]}"
            ]
          },
          "metadata": {},
          "execution_count": 22
        }
      ]
    }
  ]
}