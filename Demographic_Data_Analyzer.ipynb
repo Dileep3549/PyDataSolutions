{
  "nbformat": 4,
  "nbformat_minor": 0,
  "metadata": {
    "colab": {
      "name": "Demographic Data Analyzer.ipynb",
      "provenance": [],
      "collapsed_sections": [],
      "authorship_tag": "ABX9TyNo+TJh0e7rKlEgVps17SXG",
      "include_colab_link": true
    },
    "kernelspec": {
      "name": "python3",
      "display_name": "Python 3"
    },
    "language_info": {
      "name": "python"
    }
  },
  "cells": [
    {
      "cell_type": "markdown",
      "metadata": {
        "id": "view-in-github",
        "colab_type": "text"
      },
      "source": [
        "<a href=\"https://colab.research.google.com/github/Dileep3549/PyDataSolutions/blob/main/Demographic_Data_Analyzer.ipynb\" target=\"_parent\"><img src=\"https://colab.research.google.com/assets/colab-badge.svg\" alt=\"Open In Colab\"/></a>"
      ]
    },
    {
      "cell_type": "code",
      "source": [
        "import pandas as pd\n",
        "\n",
        "\n",
        "def calculate_demographic_data(print_data=True):\n",
        "    # Read data from file\n",
        "    df = pd.read_csv('adult.data.csv')\n",
        "\n",
        "    # How many of each race are represented in this dataset? This should be a Pandas series with race names as the index labels.\n",
        "    race_count = df.value_counts('race')\n",
        "\n",
        "    # What is the average age of men?\n",
        "    average_age_men = round(df[df['sex']=='Male']['age'].mean(),1)\n",
        "\n",
        "    # What is the percentage of people who have a Bachelor's degree?\n",
        "    percentage_bachelors = round((df[df['education']=='Bachelors']['education'].count()/df.shape[0])*100,1)\n",
        "\n",
        "    # What percentage of people with advanced education (`Bachelors`, `Masters`, or `Doctorate`) make more than 50K?\n",
        "    # What percentage of people without advanced education make more than 50K?\n",
        "\n",
        "    # with and without `Bachelors`, `Masters`, or `Doctorate`\n",
        "    higher_education = len(df[df['education'].isin(['Bachelors','Masters','Doctorate'])])\n",
        "    lower_education = df.loc[(~df['education'].isin(['Bachelors','Masters','Doctorate'])) & (df['salary']=='>50K')].count()\n",
        "\n",
        "    # percentage with salary >50K\n",
        "    higher_education_rich = round(df.loc[(df['education'].isin(['Bachelors','Masters','Doctorate'])) & (df['salary']=='>50K')].count()/len(df[df['education'].isin(['Bachelors','Masters','Doctorate'])])*100,1)[0]\n",
        "    lower_education_rich = round(df.loc[(~df['education'].isin(['Bachelors','Masters','Doctorate'])) & (df['salary']=='>50K')].count()/len(df[~df['education'].isin(['Bachelors','Masters','Doctorate'])])*100,1)[0]\n",
        "\n",
        "\n",
        "    # What is the minimum number of hours a person works per week (hours-per-week feature)?\n",
        "    min_work_hours = df['hours-per-week'].min()\n",
        "\n",
        "    # What percentage of the people who work the minimum number of hours per week have a salary of >50K?\n",
        "    num_min_workers = df[df['hours-per-week']==df['hours-per-week'].min()].shape[0]\n",
        "\n",
        "    rich_percentage = (df[(df['hours-per-week']==df['hours-per-week'].min()) & (df['salary']=='>50K')]['hours-per-week'].count()/df[df['hours-per-week']==df['hours-per-week'].min()].shape[0])*100\n",
        "\n",
        "    # What country has the highest percentage of people that earn >50K?\n",
        "    highest_earning_country = (df[df['salary'] == '>50K']['native-country'].value_counts()/ df['native-country'].value_counts() * 100).sort_values(ascending=False).fillna(0).idxmax()\n",
        "    highest_earning_country_percentage = round(len(df[(df['native-country'] == highest_earning_country) & (df['salary'] == '>50K')]) / len(df[(df['native-country'] == highest_earning_country)])*100,1)\n",
        "\n",
        "    # Identify the most popular occupation for those who earn >50K in India.\n",
        "    top_IN_occupation = df[(df['salary']=='>50K') & (df['native-country']=='India')]['occupation'].mode()[0]\n",
        "\n",
        "    # DO NOT MODIFY BELOW THIS LINE\n",
        "\n",
        "    if print_data:\n",
        "        print(\"Number of each race:\\n\", race_count) \n",
        "        print(\"Average age of men:\", average_age_men)\n",
        "        print(f\"Percentage with Bachelors degrees: {percentage_bachelors}%\")\n",
        "        print(f\"Percentage with higher education that earn >50K: {higher_education_rich}%\")\n",
        "        print(f\"Percentage without higher education that earn >50K: {lower_education_rich}%\")\n",
        "        print(f\"Min work time: {min_work_hours} hours/week\")\n",
        "        print(f\"Percentage of rich among those who work fewest hours: {rich_percentage}%\")\n",
        "        print(\"Country with highest percentage of rich:\", highest_earning_country)\n",
        "        print(f\"Highest percentage of rich people in country: {highest_earning_country_percentage}%\")\n",
        "        print(\"Top occupations in India:\", top_IN_occupation)\n",
        "\n",
        "    return {\n",
        "        'race_count': race_count,\n",
        "        'average_age_men': average_age_men,\n",
        "        'percentage_bachelors': percentage_bachelors,\n",
        "        'higher_education_rich': higher_education_rich,\n",
        "        'lower_education_rich': lower_education_rich,\n",
        "        'min_work_hours': min_work_hours,\n",
        "        'rich_percentage': rich_percentage,\n",
        "        'highest_earning_country': highest_earning_country,\n",
        "        'highest_earning_country_percentage':\n",
        "        highest_earning_country_percentage,\n",
        "        'top_IN_occupation': top_IN_occupation\n",
        "    }\n"
      ],
      "metadata": {
        "id": "q6fNqjD-hmbL"
      },
      "execution_count": 48,
      "outputs": []
    }
  ]
}